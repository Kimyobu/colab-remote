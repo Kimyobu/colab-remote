{
  "nbformat": 4,
  "nbformat_minor": 0,
  "metadata": {
    "colab": {
      "private_outputs": true,
      "provenance": [],
      "authorship_tag": "ABX9TyNbxKn5Z0gV07zcEkCBhTIY",
      "include_colab_link": true
    },
    "kernelspec": {
      "name": "python3",
      "display_name": "Python 3"
    },
    "language_info": {
      "name": "python"
    }
  },
  "cells": [
    {
      "cell_type": "markdown",
      "metadata": {
        "id": "view-in-github",
        "colab_type": "text"
      },
      "source": [
        "<a href=\"https://colab.research.google.com/github/Kimyobu/colab-remote/blob/main/CiscoFantasyLiteColabServer.ipynb\" target=\"_parent\"><img src=\"https://colab.research.google.com/assets/colab-badge.svg\" alt=\"Open In Colab\"/></a>"
      ]
    },
    {
      "cell_type": "markdown",
      "source": [
        "## 📜 ข้อตกลงการใช้งาน (User Terms) / Nutzungsbedingungen\n",
        "\n",
        "### 🇹🇭 ภาษาไทย\n",
        "\n",
        "โดยการกด “ตกลง (Agree)” เพื่อใช้งาน Notebook นี้  \n",
        "คุณยินยอมให้:\n",
        "\n",
        "- 📂 Notebook เข้าถึง Google Drive ของคุณ เพื่อใช้เก็บข้อมูลเซิร์ฟเวอร์ Minecraft (เฉพาะโฟลเดอร์ที่ระบุ)  \n",
        "- 🔑 ใส่ NGROK Auth Token เพื่อให้สามารถเปิดการเชื่อมต่อแบบ Remote TCP ได้  \n",
        "- 🚫 ห้ามนำระบบนี้ไปใช้ในทางที่ผิด เช่น เซิร์ฟเวอร์ละเมิดลิขสิทธิ์, แจกจ่าย modpack เถื่อน หรือขัดต่อนโยบายของ Mojang, Google หรือ NGROK  \n",
        "- ⚠️ ข้อมูลที่ใช้งานร่วมกันอาจถูกลบได้โดยไม่แจ้งล่วงหน้า หากมีการใช้งานผิดวัตถุประสงค์  \n",
        "- 📌 ผู้ใช้ต้องรับผิดชอบต่อข้อมูลและลิขสิทธิ์ของ modpack ที่นำมาใช้งานเอง\n",
        "\n",
        "หากคุณไม่ยินยอมตามข้อตกลงนี้ กรุณา **อย่าใช้งาน Notebook นี้**\n",
        "\n",
        "---\n",
        "\n",
        "### 🇩🇪 Deutsch\n",
        "\n",
        "Durch das Klicken auf **\"Zustimmen (Agree)\"** erklärst du dich einverstanden:\n",
        "\n",
        "- 📂 Dieses Notebook darf auf dein Google Drive zugreifen, um Minecraft-Serverdateien zu speichern (nur im festgelegten Ordner).  \n",
        "- 🔑 Du musst einen gültigen NGROK Auth Token angeben, um den TCP-Tunnel zu aktivieren.  \n",
        "- 🚫 Keine Nutzung für illegale Zwecke wie urheberrechtswidrige Server, illegale Modpack-Verbreitung oder Verstöße gegen die Richtlinien von Mojang, Google oder NGROK.  \n",
        "- ⚠️ Gemeinsame Daten können ohne Vorwarnung gelöscht werden, wenn Missbrauch festgestellt wird.  \n",
        "- 📌 Du trägst die Verantwortung für die Inhalte und Lizenzen der verwendeten Modpacks.\n",
        "\n",
        "Wenn du diesen Bedingungen **nicht zustimmst**, verwende dieses Notebook bitte **nicht**.\n"
      ],
      "metadata": {
        "id": "rxnRRzB2c9-3"
      }
    },
    {
      "cell_type": "code",
      "execution_count": null,
      "metadata": {
        "cellView": "form",
        "id": "HVXz0mbvZEID"
      },
      "outputs": [],
      "source": [
        "#@title <font size='7'><b>Installer. <font size='5'>Run <font color=\"red\"><u>once</u> <font color=\"white\">to install on <font color=\"yellow\">Google Drive\n",
        "agree_user_term_policy = True # @param {\"type\":\"boolean\"}\n",
        "#@markdown Read <a href=\"#scrollTo=rxnRRzB2c9-3\">User Terms</a>\n",
        "if agree_user_term_policy is False:\n",
        "  raise UserWarning(\"Please read and argee 'User Terms'\")\n",
        "force_reinstall = False # @param {\"type\":\"boolean\"}\n",
        "# @markdown To force reinstall enable this option. <font color=red><b>(Server Data Will Be WIPE)\n",
        "from google.colab import drive, output\n",
        "import os\n",
        "\n",
        "if (os.environ.get(\"_env\") != \"True\"):\n",
        "  confirm_reinstall = False\n",
        "  _pyngrok = False\n",
        "  _install = False\n",
        "\n",
        "if os.environ.get(\"_env\") is None:\n",
        "  os.environ[\"_env\"] = \"True\"\n",
        "if not os.path.exists(\"/content/drive/MyDrive\"):\n",
        "    drive.mount(\"/content/drive\", force_remount=True)\n",
        "PROJECT = \"/content/drive/MyDrive/CiscoFantasyLite_ColabServer\"\n",
        "# PROJECT = \"/content/CiscoFantasyLite_ColabServer\"\n",
        "if not os.path.exists(PROJECT):\n",
        "    os.mkdir(PROJECT)\n",
        "    _install = True\n",
        "if force_reinstall is True:\n",
        "  if (confirm_reinstall is True):\n",
        "    print(\"Wiping All Data...\")\n",
        "    !rm -r $PROJECT\n",
        "    os.mkdir(PROJECT)\n",
        "    _install = True\n",
        "    confirm_reinstall = False\n",
        "  else:\n",
        "    confirm_reinstall = True\n",
        "    raise Exception(\"Reconfirmation Again.\")\n",
        "\n",
        "if (_pyngrok is not True):\n",
        "  %pip install -q pyngrok\n",
        "  _pyngrok = True\n",
        "\n",
        "if (_install is True):\n",
        "  print(\"Installing...\")\n",
        "  %cd $PROJECT\n",
        "  !wget -c \"https://www.curseforge.com/api/v1/mods/873717/files/5894650/download\" -O \"server_pack.zip\"\n",
        "  !unzip server_pack.zip\n",
        "  !rm server_pack.zip\n",
        "  !wget -c https://download.oracle.com/java/17/archive/jdk-17.0.12_linux-x64_bin.tar.gz -O jdk.tar.gz\n",
        "  !tar -xvzf jdk.tar.gz\n",
        "  !rm jdk.tar.gz\n",
        "  _install = False\n",
        "output.clear()\n",
        "print(\"All done.\")"
      ]
    },
    {
      "cell_type": "code",
      "source": [
        "#@title <font size=6><b>Start Server.\n",
        "agree_user_term_policy = False # @param {\"type\":\"boolean\"}\n",
        "#@markdown Read <a href=\"#scrollTo=rxnRRzB2c9-3\">User Terms</a>\n",
        "if agree_user_term_policy is False:\n",
        "  raise UserWarning(\"Please read and argee 'User Terms'\")\n",
        "from google.colab import drive, output\n",
        "import os\n",
        "if not os.path.exists(\"/content/drive/MyDrive\"):\n",
        "    drive.mount(\"/content/drive\", force_remount=True)\n",
        "PROJECT = \"/content/drive/MyDrive/CiscoFantasyLite_ColabServer\"\n",
        "# PROJECT = \"/content/CiscoFantasyLite_ColabServer\"\n",
        "if os.path.exists(PROJECT) is not True:\n",
        "  raise UserWarning(\"Project Directory Not Found. Please run Installer First.\")\n",
        "%cd $PROJECT\n",
        "!sed -i 's/JAVA_ARGS=\"-Xmx[0-9]\\+G -Xms[0-9]\\+G\"/JAVA_ARGS=\"-Xmx10G -Xms10G\"/' variables.txt\n",
        "!sed -i 's|^JAVA=\".*\"|JAVA=\"./jdk-17.0.12/bin/java\"|' variables.txt\n",
        "!chmod +x start.sh\n",
        "from pyngrok import ngrok, conf\n",
        "import time\n",
        "ngrok_auth_token = \"\" # @param {\"type\":\"string\",\"placeholder\":\"Your auth token key...\"}\n",
        "#@markdown Get it from https://dashboard.ngrok.com/get-started/your-authtoken\n",
        "region = \"eu\" # @param [\"eu\",\"ap\"]\n",
        "!ngrok config add-authtoken $ngrok_auth_token\n",
        "conf.get_default().region = region\n",
        "tcp_tunnel = ngrok.connect(25565, \"tcp\")\n",
        "print(\"Here is Tunnel Url:\", tcp_tunnel)\n",
        "print(\"Server Will Start in 5s...\")\n",
        "time.sleep(5)\n",
        "!./start.sh"
      ],
      "metadata": {
        "cellView": "form",
        "id": "iB-1vvH4lpy3"
      },
      "execution_count": null,
      "outputs": []
    }
  ]
}